{
 "cells": [
  {
   "cell_type": "markdown",
   "id": "f868d4e3",
   "metadata": {},
   "source": [
    "## Tarea 002 - Análisis Multimodal MIR\n",
    "### Gustavo Hernández Angeles"
   ]
  },
  {
   "cell_type": "code",
   "execution_count": 1,
   "id": "8450a233",
   "metadata": {},
   "outputs": [],
   "source": [
    "import numpy as np\n",
    "import matplotlib.pyplot as plt\n",
    "from my_fun import *  # noqa: F403\n",
    "from scipy.io import wavfile\n",
    "from typing import Tuple\n",
    "from pathlib import Path"
   ]
  },
  {
   "cell_type": "markdown",
   "id": "6d65325a",
   "metadata": {},
   "source": [
    "## Problema 3"
   ]
  },
  {
   "cell_type": "markdown",
   "id": "85f39869",
   "metadata": {},
   "source": [
    "### Inciso a)"
   ]
  },
  {
   "cell_type": "code",
   "execution_count": 2,
   "id": "6ea713f1",
   "metadata": {},
   "outputs": [],
   "source": [
    "def f(a:float,\n",
    "      delta:float) -> float:\n",
    "    return np.sign(a) * delta * np.floor(np.abs(a)/delta + 0.5)"
   ]
  },
  {
   "cell_type": "markdown",
   "id": "fad44ebd",
   "metadata": {},
   "source": [
    "### Inciso b)"
   ]
  },
  {
   "cell_type": "code",
   "execution_count": 3,
   "id": "0cb04fd5",
   "metadata": {},
   "outputs": [],
   "source": [
    "def plot_cuantizada_y_error(x: np.ndarray, \n",
    "                    y: np.ndarray,\n",
    "                    delta: float,\n",
    "                    graph_path: str,\n",
    "                    figsize=(8, 2.2)):\n",
    "    y_cuantizada = f(y, delta)\n",
    "    plt.figure(figsize=figsize)\n",
    "    plt.plot(x, y, label='Señal original')\n",
    "    plt.step(x, y_cuantizada, label='Señal cuantizada', where='mid')\n",
    "    plt.xlabel('Tiempo [s]')\n",
    "    plt.ylabel('Amplitud')\n",
    "    plt.legend(loc='upper right')\n",
    "    #plt.grid()\n",
    "    plt.savefig(graph_path, bbox_inches='tight')\n",
    "    plt.clf()\n",
    "    \n",
    "    plt.figure(figsize=figsize)\n",
    "    plt.plot(x, np.abs(y - y_cuantizada), label='Error de cuantización')\n",
    "    plt.xlabel('Tiempo [s]')\n",
    "    plt.ylabel('Error de cuantización')\n",
    "    plt.legend(loc='upper right')\n",
    "    #plt.grid()\n",
    "    plt.savefig(graph_path.replace('.pdf', '_error.pdf'), bbox_inches='tight')\n",
    "    plt.clf()"
   ]
  },
  {
   "cell_type": "code",
   "execution_count": 4,
   "id": "6704ce5b",
   "metadata": {},
   "outputs": [
    {
     "data": {
      "text/plain": [
       "<Figure size 800x220 with 0 Axes>"
      ]
     },
     "metadata": {},
     "output_type": "display_data"
    },
    {
     "data": {
      "text/plain": [
       "<Figure size 800x220 with 0 Axes>"
      ]
     },
     "metadata": {},
     "output_type": "display_data"
    }
   ],
   "source": [
    "## Función lineal\n",
    "x = np.linspace(0, 5, 100)\n",
    "y = 2 * x + 1\n",
    "plot_cuantizada_y_error(x, y, delta=1, graph_path='../documento/figure/lineal_cuantizada.pdf')"
   ]
  },
  {
   "cell_type": "code",
   "execution_count": 5,
   "id": "b1dedcc5",
   "metadata": {},
   "outputs": [
    {
     "data": {
      "text/plain": [
       "<Figure size 800x220 with 0 Axes>"
      ]
     },
     "metadata": {},
     "output_type": "display_data"
    },
    {
     "data": {
      "text/plain": [
       "<Figure size 800x220 with 0 Axes>"
      ]
     },
     "metadata": {},
     "output_type": "display_data"
    }
   ],
   "source": [
    "## Función sinusoidal\n",
    "x = np.linspace(0, 2 * np.pi, 100)\n",
    "y = np.sin(x)\n",
    "plot_cuantizada_y_error(x, y, delta=0.5, graph_path='../documento/figure/sinusoidal_cuantizada.pdf')"
   ]
  },
  {
   "cell_type": "markdown",
   "id": "05f52c84",
   "metadata": {},
   "source": [
    "### Inciso c)"
   ]
  },
  {
   "cell_type": "code",
   "execution_count": 6,
   "id": "98b336f0",
   "metadata": {},
   "outputs": [],
   "source": [
    "def obtener_delta(bits: int,\n",
    "                  y: np.ndarray) -> np.float64:\n",
    "    lmbda = 2 ** bits\n",
    "    y_max = np.max(y).astype(np.float64)\n",
    "    y_min = np.min(y).astype(np.float64)\n",
    "    return np.abs(y_max - y_min) / (lmbda - 1)\n",
    "\n",
    "def obtener_cuantizada(wav_path: Path,\n",
    "                       bits: int) -> Tuple[int, np.ndarray]:\n",
    "    audio = wavfile.read(wav_path)\n",
    "    sample_rate = audio[0]\n",
    "    data = audio[1]\n",
    "    delta = obtener_delta(bits, data)\n",
    "    data_cuantizada = f(data, delta)\n",
    "    return sample_rate, data_cuantizada, data"
   ]
  },
  {
   "cell_type": "code",
   "execution_count": 7,
   "id": "d62be8fa",
   "metadata": {},
   "outputs": [
    {
     "name": "stderr",
     "output_type": "stream",
     "text": [
      "/tmp/ipykernel_10380/1406793491.py:10: WavFileWarning: Chunk (non-data) not understood, skipping it.\n",
      "  audio = wavfile.read(wav_path)\n"
     ]
    }
   ],
   "source": [
    "bits = [2,4,6,8]\n",
    "wav_path = Path(\"../data/audio_raw/piano-loops-127-octave-120-bpm.wav\")\n",
    "\n",
    "for b in bits:    \n",
    "    sample_rate, data_cuantizada, _ = obtener_cuantizada(wav_path, b)\n",
    "    wavfile.write(f\"../data/audio_cuantizado/piano-loops-127-octave-120-bpm_{b}bits.wav\",\n",
    "                  sample_rate,\n",
    "                  data_cuantizada.astype(np.int16))"
   ]
  },
  {
   "cell_type": "code",
   "execution_count": 8,
   "id": "88f6d6ca",
   "metadata": {},
   "outputs": [
    {
     "name": "stdout",
     "output_type": "stream",
     "text": [
      "Valores únicos en la señal cuantizada a 2 bits: 4\n",
      "Valores únicos en la señal cuantizada a 4 bits: 16\n",
      "Valores únicos en la señal cuantizada a 6 bits: 64\n",
      "Valores únicos en la señal cuantizada a 8 bits: 256\n"
     ]
    }
   ],
   "source": [
    "bits = [2, 4, 6, 8]\n",
    "wav_path = Path(\"../data/audio_raw/major.wav\")\n",
    "\n",
    "fig_quantized, ax_quantized = plt.subplots(figsize=(8, 2.2))\n",
    "fig_error, ax_error = plt.subplots(figsize=(8, 2.2))\n",
    "\n",
    "\n",
    "first_iteration = True\n",
    "\n",
    "for b in bits:    \n",
    "    # Obtener la señal original y la señal cuantizada\n",
    "    sample_rate, data_cuantizada, data = obtener_cuantizada(wav_path, b)\n",
    "    wavfile.write(f\"../data/audio_cuantizado/major_{b}bits.wav\",\n",
    "                  sample_rate,\n",
    "                  data_cuantizada.astype(np.int16))\n",
    "    \n",
    "    x = np.linspace(0, len(data_cuantizada) / sample_rate, len(data_cuantizada))\n",
    "    print(f\"Valores únicos en la señal cuantizada a {b} bits: {len(np.unique(data_cuantizada))}\")\n",
    "    \n",
    "    # Datos entre 2 y 2.005 segundos\n",
    "    idx = (x > 2) & (x < 2.005)\n",
    "    x_filtered = x[idx]\n",
    "    data_cuantizada_filtered = data_cuantizada[idx, 1]\n",
    "    data_filtered = data[idx, 1]\n",
    "    \n",
    "    # Imprime la señal original solo en la primera iteración\n",
    "    if first_iteration:\n",
    "        ax_quantized.plot(x_filtered, data_filtered, label='Original', \n",
    "                         alpha=0.7, color='black', linewidth=1.5)\n",
    "        first_iteration = False\n",
    "    \n",
    "    # Grafica la señal cuantizada para cada profundidad de bits\n",
    "    ax_quantized.plot(x_filtered, data_cuantizada_filtered, \n",
    "                     label=f'Cuant. {b} bits', alpha=0.9)\n",
    "\n",
    "    # Grafica el error de cuantización para cada profundidad de bits\n",
    "    ax_error.plot(x_filtered, np.abs(data_filtered - data_cuantizada_filtered),\n",
    "                 label=f'Error {b} bits')\n",
    "\n",
    "# Configure and save the quantized signal plot\n",
    "ax_quantized.set_xlabel('Tiempo [s]')\n",
    "ax_quantized.set_ylabel('Amplitud')\n",
    "# legend outside the plot\n",
    "ax_quantized.legend(loc=\"upper left\", bbox_to_anchor=(1.01, 1))\n",
    "#ax_quantized.grid()\n",
    "fig_quantized.savefig('../documento/figure/major_cuantizada_all.pdf', bbox_inches='tight')\n",
    "plt.close(fig_quantized)\n",
    "\n",
    "# Configure and save the error plot\n",
    "ax_error.set_xlabel('Tiempo [s]')\n",
    "ax_error.set_ylabel('Amplitud')\n",
    "ax_error.legend(loc=\"upper left\", bbox_to_anchor=(1.01, 1))\n",
    "#ax_error.grid()\n",
    "fig_error.savefig('../documento/figure/major_error_cuantizacion_all.pdf', bbox_inches='tight')\n",
    "plt.close(fig_error)"
   ]
  },
  {
   "cell_type": "code",
   "execution_count": 9,
   "id": "783d33c1",
   "metadata": {},
   "outputs": [],
   "source": [
    "bits = [2,4,6,8]\n",
    "wav_path = Path(\"../data/audio_raw/Guitar_MoreThanWords_16bit_44.1kHz_stereo.wav\")\n",
    "\n",
    "for b in bits:    \n",
    "    sample_rate, data_cuantizada, _ = obtener_cuantizada(wav_path, b)\n",
    "    wavfile.write(f\"../data/audio_cuantizado/Guitar_MoreThanWords_16bit_44.1kHz_stereo_{b}bits.wav\",\n",
    "                  sample_rate,\n",
    "                  data_cuantizada.astype(np.int16))"
   ]
  },
  {
   "cell_type": "markdown",
   "id": "13cd0de1",
   "metadata": {},
   "source": [
    "## Problema 4\n"
   ]
  }
 ],
 "metadata": {
  "kernelspec": {
   "display_name": "t2",
   "language": "python",
   "name": "python3"
  },
  "language_info": {
   "codemirror_mode": {
    "name": "ipython",
    "version": 3
   },
   "file_extension": ".py",
   "mimetype": "text/x-python",
   "name": "python",
   "nbconvert_exporter": "python",
   "pygments_lexer": "ipython3",
   "version": "3.10.18"
  }
 },
 "nbformat": 4,
 "nbformat_minor": 5
}
